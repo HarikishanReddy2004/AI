{
 "cells": [
  {
   "cell_type": "code",
   "execution_count": null,
   "id": "c2521796",
   "metadata": {},
   "outputs": [],
   "source": [
    "import numpy as np\n",
    "MIN=float(\"-inf\")\n",
    "MAX=float(\"inf\")\n",
    "def alpha_beta(depth, index, maximizingPlayer,values, alpha, beta):\n",
    "    if depth == 0:\n",
    "        return values[index]\n",
    "\n",
    "\n",
    "    if maximizingPlayer:\n",
    "        opti = MIN\n",
    "        for i in range(0, 2):\n",
    "            val = alpha_beta(depth - 1, index * 2 + i,False, values, alpha, beta)\n",
    "            opti = max(opti, val)\n",
    "            alpha = max(alpha, opti)\n",
    "            if beta <= alpha:\n",
    "             break\n",
    "        return opti\n",
    "\n",
    "    else:\n",
    "        opti = MAX\n",
    "        for i in range(0, 2):\n",
    "          val = alpha_beta(depth - 1, index * 2 + i,True, values, alpha, beta)\n",
    "          opti = min(opti, val)\n",
    "          beta = min(beta, opti)\n",
    "          if beta <= alpha:\n",
    "            break\n",
    "        return opti\n",
    "\n",
    "\n",
    "# Driver Code\n",
    "if __name__ == \"__main__\":\n",
    "\n",
    "\n",
    "    values = [10,5,7,11,12,8,9,8,5,12,11,12,9,8,7,10]\n",
    "    dep=int(np.log2(len(values)))\n",
    "    print(\"The value OF alpha is :\", alpha_beta(dep, 0, True, values, MIN, MAX))\n",
    "    print(\"The value OF beta is :  inf\")\n",
    "\n"
   ]
  }
 ],
 "metadata": {
  "kernelspec": {
   "display_name": "Python 3",
   "language": "python",
   "name": "python3"
  },
  "language_info": {
   "codemirror_mode": {
    "name": "ipython",
    "version": 3
   },
   "file_extension": ".py",
   "mimetype": "text/x-python",
   "name": "python",
   "nbconvert_exporter": "python",
   "pygments_lexer": "ipython3",
   "version": "3.8.8"
  }
 },
 "nbformat": 4,
 "nbformat_minor": 5
}
