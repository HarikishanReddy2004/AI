{
 "cells": [
  {
   "cell_type": "code",
   "execution_count": null,
   "id": "f59243fa",
   "metadata": {},
   "outputs": [],
   "source": [
    "v=int(input('Enter the number of vertices: '))\n",
    "graph = [[] for i in range(v)]\n",
    "def bfs(s,g,n):\n",
    "    vis=[False]*n\n",
    "    o,c=[],[]\n",
    "    o.append((0,s))\n",
    "    vis[s]=True\n",
    "    while len(o)>0:\n",
    "        node=o.pop()[1]\n",
    "        c.append(node)\n",
    "        print(node)\n",
    "        if node==g:\n",
    "            return\n",
    "        for k,c1 in graph[node]:\n",
    "            if vis[k]==False:\n",
    "                vis[k]==True\n",
    "                o.append((c1,k))\n",
    "        if len(o)>0:\n",
    "            o.sort(key = lambda x: x[1])\n",
    "\n",
    " \n",
    "def addedge(x, y, cost):\n",
    "    graph[x].append((y, cost))\n",
    "    graph[y].append((x, cost))\n",
    "edge=int(input('no.of edges:'))\n",
    "for i in range(edge):\n",
    "    x=int(input('vertex 1:'))\n",
    "    y=int(input('vertex 2:'))\n",
    "    c=int(input('cost: '))\n",
    "    addedge(x,y,c)\n",
    "source=int(input('source '))\n",
    "goal=int(input('goal  '))\n",
    "bfs(source,goal,v)\n",
    "#print(graph[0])"
   ]
  }
 ],
 "metadata": {
  "kernelspec": {
   "display_name": "Python 3",
   "language": "python",
   "name": "python3"
  },
  "language_info": {
   "codemirror_mode": {
    "name": "ipython",
    "version": 3
   },
   "file_extension": ".py",
   "mimetype": "text/x-python",
   "name": "python",
   "nbconvert_exporter": "python",
   "pygments_lexer": "ipython3",
   "version": "3.8.8"
  }
 },
 "nbformat": 4,
 "nbformat_minor": 5
}
