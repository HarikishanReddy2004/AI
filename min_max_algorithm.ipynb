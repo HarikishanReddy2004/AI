{
 "cells": [
  {
   "cell_type": "code",
   "execution_count": null,
   "id": "524ec847",
   "metadata": {},
   "outputs": [],
   "source": [
    "import numpy as np\n",
    "MIN=float(\"-inf\")\n",
    "MAX=float(\"inf\")\n",
    "#box->max->maximising player\n",
    "#circle-->min->minimising player\n",
    "def minmax(depth,index,maximizingplayer,arr):\n",
    "    if depth==0:\n",
    "        return arr[index]\n",
    "    if maximizingplayer:\n",
    "        optimum=MIN\n",
    "        for i in range(2):\n",
    "            val=minmax(depth-1,index*2+i,False,arr)  #to check the left and right child of below level and change player also\n",
    "            optimum=max(optimum,val)\n",
    "        return optimum \n",
    "    else:\n",
    "        optimum=MAX\n",
    "        for i in range(2):\n",
    "            val=minmax(depth-1,index*2+i,True,arr)\n",
    "            optimum=min(optimum,val)\n",
    "        return optimum \n",
    "\n",
    "\n",
    "if __name__ == \"__main__\":\n",
    "    arr = [10,9,14,18,5,4,50,5]\n",
    "    dep=int(np.log2(len(arr)))  #4 levels 0,1,2,3\n",
    "    print(\"The value is :\", minmax(dep, 0, True, arr))"
   ]
  }
 ],
 "metadata": {
  "kernelspec": {
   "display_name": "Python 3",
   "language": "python",
   "name": "python3"
  },
  "language_info": {
   "codemirror_mode": {
    "name": "ipython",
    "version": 3
   },
   "file_extension": ".py",
   "mimetype": "text/x-python",
   "name": "python",
   "nbconvert_exporter": "python",
   "pygments_lexer": "ipython3",
   "version": "3.8.8"
  }
 },
 "nbformat": 4,
 "nbformat_minor": 5
}
